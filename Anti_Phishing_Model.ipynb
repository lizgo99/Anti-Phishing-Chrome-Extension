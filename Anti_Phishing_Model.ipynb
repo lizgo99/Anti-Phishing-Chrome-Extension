{
  "nbformat": 4,
  "nbformat_minor": 0,
  "metadata": {
    "colab": {
      "provenance": []
    },
    "kernelspec": {
      "name": "python3",
      "display_name": "Python 3"
    },
    "language_info": {
      "name": "python"
    }
  },
  "cells": [
    {
      "cell_type": "code",
      "source": [
        "!pip install tensorflowjs\n",
        "!pip install TensorFlow==2.15.0\n",
        "!pip install tensorflow-decision-forests==1.8.1"
      ],
      "metadata": {
        "id": "8jwZtGUw1e83"
      },
      "execution_count": null,
      "outputs": []
    },
    {
      "cell_type": "code",
      "execution_count": 2,
      "metadata": {
        "id": "OGQCOljRF5fx"
      },
      "outputs": [],
      "source": [
        "import tensorflow as tf\n",
        "from sklearn.model_selection import train_test_split\n",
        "from sklearn.preprocessing import StandardScaler\n",
        "import pandas as pd\n",
        "import numpy as np\n",
        "\n",
        "import keras\n",
        "from keras.models import Sequential\n",
        "from keras.layers import Dense, InputLayer"
      ]
    },
    {
      "cell_type": "code",
      "source": [
        "tf.keras.backend.clear_session()"
      ],
      "metadata": {
        "id": "o7QEUK2f3qjT"
      },
      "execution_count": 3,
      "outputs": []
    },
    {
      "cell_type": "code",
      "source": [
        "# Load dataset\n",
        "df = pd.read_csv('dataset_phishing.csv')\n",
        "\n",
        "# Map the target labels\n",
        "df['status'] = df['status'].map({'phishing': 1, 'legitimate': 0})\n",
        "\n",
        "# Filter out the non numerical columns from the dataframe\n",
        "numerical_df = df.select_dtypes(include=['float64', 'int64'])\n",
        "\n",
        "# Correlation matrix\n",
        "corr_matrix = numerical_df.corr()\n",
        "\n",
        "for i, score in enumerate(corr_matrix['status']):\n",
        "  print(f\"{corr_matrix.index[i]}: {score}\")"
      ],
      "metadata": {
        "colab": {
          "base_uri": "https://localhost:8080/"
        },
        "id": "ggHhPDyvfEqm",
        "outputId": "91c1d2f7-62ed-4dcb-b70c-34af3744dcf0"
      },
      "execution_count": 5,
      "outputs": [
        {
          "output_type": "stream",
          "name": "stdout",
          "text": [
            "length_url: 0.24858046741991785\n",
            "length_hostname: 0.23832240376368571\n",
            "ip: 0.3216977823874091\n",
            "nb_dots: 0.20702877302594608\n",
            "nb_hyphens: -0.10010749922687573\n",
            "nb_at: 0.1429145682495236\n",
            "nb_qm: 0.2943190708457299\n",
            "nb_and: 0.17054637539522324\n",
            "nb_or: nan\n",
            "nb_eq: 0.23338630384578937\n",
            "nb_underscore: 0.038091335717948885\n",
            "nb_tilde: 0.030142327921163874\n",
            "nb_percent: 0.0281012907323974\n",
            "nb_slash: 0.2422699601753399\n",
            "nb_star: 0.026465122927556164\n",
            "nb_colon: 0.09283530688602196\n",
            "nb_comma: 0.011864645370159898\n",
            "nb_semicolumn: 0.10355407191497115\n",
            "nb_dollar: 0.02496205711274488\n",
            "nb_space: -0.004193221721663016\n",
            "nb_www: -0.4434676875128603\n",
            "nb_com: 0.15628353122693384\n",
            "nb_dslash: 0.07260233721343713\n",
            "http_in_path: 0.07077623749635599\n",
            "https_token: 0.11466906528633683\n",
            "ratio_digits_url: 0.3563945701626024\n",
            "ratio_digits_host: 0.22433492719580636\n",
            "punycode: 0.018710391971381544\n",
            "port: 0.009011115578823205\n",
            "tld_in_path: 0.0791465083738078\n",
            "tld_in_subdomain: 0.20888415296656912\n",
            "abnormal_subdomain: 0.12815984230478297\n",
            "nb_subdomains: 0.11289072950967136\n",
            "prefix_suffix: 0.21468073790291617\n",
            "random_domain: 0.019630620089282735\n",
            "shortening_service: 0.10611999002964646\n",
            "path_extension: 5.592660435806971e-17\n",
            "nb_redirection: -0.024405200554436235\n",
            "nb_external_redirection: 0.05620994273193414\n",
            "length_words_raw: 0.19201047760965867\n",
            "char_repeat: 0.014732173953441405\n",
            "shortest_words_raw: -0.03936360840700151\n",
            "shortest_word_host: 0.22308404240883373\n",
            "shortest_word_path: 0.0743649480962167\n",
            "longest_words_raw: 0.20014657829049398\n",
            "longest_word_host: 0.12451556744481343\n",
            "longest_word_path: 0.21270911546421986\n",
            "avg_words_raw: 0.16756371369746167\n",
            "avg_word_host: 0.19350165239605555\n",
            "avg_word_path: 0.19725610911780206\n",
            "phish_hints: 0.3353927377156508\n",
            "domain_in_brand: -0.09822215713839164\n",
            "brand_in_subdomain: 0.06425701708705903\n",
            "brand_in_path: 0.06515574548599672\n",
            "suspecious_tld: 0.11008961825721753\n",
            "statistical_report: 0.14394354204933835\n",
            "nb_hyperlinks: -0.34262829003785134\n",
            "ratio_intHyperlinks: -0.24398212184603427\n",
            "ratio_extHyperlinks: 0.08335725046673563\n",
            "ratio_nullHyperlinks: nan\n",
            "nb_extCSS: -0.08356662643796718\n",
            "ratio_intRedirection: nan\n",
            "ratio_extRedirection: -0.15082669906603136\n",
            "ratio_intErrors: nan\n",
            "ratio_extErrors: -0.03470251099173575\n",
            "login_form: -0.019000100645335048\n",
            "external_favicon: -0.1465654322984782\n",
            "links_in_tags: -0.1844010871305745\n",
            "submit_email: nan\n",
            "ratio_intMedia: -0.19333307945755168\n",
            "ratio_extMedia: -0.14040586941691097\n",
            "sfh: nan\n",
            "iframe: -0.012083323893240091\n",
            "popup_window: -0.057601971878803136\n",
            "safe_anchor: -0.17339728519498757\n",
            "onmouseover: -0.007787061022959059\n",
            "right_clic: 0.004680056220917099\n",
            "empty_title: 0.2070428078394182\n",
            "domain_in_title: 0.3428069729938348\n",
            "domain_with_copyright: -0.17309846045473157\n",
            "whois_registered_domain: 0.06697906929724495\n",
            "domain_registration_length: -0.16171876900087412\n",
            "domain_age: -0.33188908389604016\n",
            "web_traffic: 0.06038772477661698\n",
            "dns_record: 0.1221189726384106\n",
            "google_index: 0.7311708381262626\n",
            "page_rank: -0.5111371436644989\n",
            "status: 1.0\n"
          ]
        }
      ]
    },
    {
      "cell_type": "code",
      "source": [
        "# Most segnificant features that I can also extract\n",
        "selected_features = ['length_url', 'length_hostname', 'ip', 'nb_dots', 'nb_qm', 'nb_eq',\n",
        "                    'nb_slash', 'nb_www', 'ratio_digits_url','ratio_digits_host',\n",
        "                    'tld_in_subdomain', 'prefix_suffix', 'shortest_word_host',\n",
        "                    'longest_words_raw', 'longest_word_path', 'phish_hints',\n",
        "                    'nb_hyperlinks', 'ratio_intHyperlinks', 'empty_title',\n",
        "                    'domain_in_title']\n",
        "\n",
        "# Select relevant features\n",
        "X = df[selected_features].values\n",
        "y = df['status'].values\n",
        "\n",
        "# Split into train and test sets\n",
        "X_train, X_test, y_train, y_test = train_test_split(X, y, test_size=0.2, random_state=42)\n",
        "\n",
        "# Normalize the data\n",
        "scaler = StandardScaler()\n",
        "X_train = scaler.fit_transform(X_train)\n",
        "X_test = scaler.transform(X_test)\n",
        "\n",
        "model = Sequential()\n",
        "model.add(InputLayer(input_shape=(X_train.shape[1],)))\n",
        "model.add(Dense(64, activation='relu'))\n",
        "model.add(Dense(32, activation='relu'))\n",
        "model.add(Dense(1, activation='sigmoid'))\n",
        "\n",
        "\n",
        "# Compile the model\n",
        "model.compile(optimizer='adam',\n",
        "              loss='binary_crossentropy',\n",
        "              metrics=['accuracy'])\n",
        "\n",
        "# Train the model\n",
        "model.fit(X_train, y_train, epochs=50, batch_size=32, validation_split=0.2)\n"
      ],
      "metadata": {
        "id": "yhjtbn_gFi_7",
        "colab": {
          "base_uri": "https://localhost:8080/"
        },
        "outputId": "4255bc99-81f2-47b5-fc8b-e30c9d7e81a4"
      },
      "execution_count": 6,
      "outputs": [
        {
          "output_type": "stream",
          "name": "stdout",
          "text": [
            "Epoch 1/50\n",
            "229/229 [==============================] - 2s 5ms/step - loss: 0.3727 - accuracy: 0.8447 - val_loss: 0.3162 - val_accuracy: 0.8660\n",
            "Epoch 2/50\n",
            "229/229 [==============================] - 1s 4ms/step - loss: 0.2865 - accuracy: 0.8800 - val_loss: 0.2964 - val_accuracy: 0.8699\n",
            "Epoch 3/50\n",
            "229/229 [==============================] - 1s 3ms/step - loss: 0.2620 - accuracy: 0.8942 - val_loss: 0.2764 - val_accuracy: 0.8879\n",
            "Epoch 4/50\n",
            "229/229 [==============================] - 1s 3ms/step - loss: 0.2488 - accuracy: 0.8995 - val_loss: 0.2656 - val_accuracy: 0.8934\n",
            "Epoch 5/50\n",
            "229/229 [==============================] - 1s 2ms/step - loss: 0.2338 - accuracy: 0.9058 - val_loss: 0.2570 - val_accuracy: 0.8939\n",
            "Epoch 6/50\n",
            "229/229 [==============================] - 1s 2ms/step - loss: 0.2229 - accuracy: 0.9092 - val_loss: 0.2526 - val_accuracy: 0.8989\n",
            "Epoch 7/50\n",
            "229/229 [==============================] - 1s 4ms/step - loss: 0.2163 - accuracy: 0.9118 - val_loss: 0.2429 - val_accuracy: 0.9043\n",
            "Epoch 8/50\n",
            "229/229 [==============================] - 2s 8ms/step - loss: 0.2080 - accuracy: 0.9177 - val_loss: 0.2510 - val_accuracy: 0.8999\n",
            "Epoch 9/50\n",
            "229/229 [==============================] - 1s 6ms/step - loss: 0.2041 - accuracy: 0.9166 - val_loss: 0.2406 - val_accuracy: 0.9087\n",
            "Epoch 10/50\n",
            "229/229 [==============================] - 1s 6ms/step - loss: 0.1979 - accuracy: 0.9193 - val_loss: 0.2426 - val_accuracy: 0.9081\n",
            "Epoch 11/50\n",
            "229/229 [==============================] - 1s 6ms/step - loss: 0.1971 - accuracy: 0.9198 - val_loss: 0.2338 - val_accuracy: 0.9109\n",
            "Epoch 12/50\n",
            "229/229 [==============================] - 2s 8ms/step - loss: 0.1923 - accuracy: 0.9225 - val_loss: 0.2411 - val_accuracy: 0.9081\n",
            "Epoch 13/50\n",
            "229/229 [==============================] - 2s 9ms/step - loss: 0.1880 - accuracy: 0.9260 - val_loss: 0.2315 - val_accuracy: 0.9158\n",
            "Epoch 14/50\n",
            "229/229 [==============================] - 2s 9ms/step - loss: 0.1854 - accuracy: 0.9263 - val_loss: 0.2352 - val_accuracy: 0.9131\n",
            "Epoch 15/50\n",
            "229/229 [==============================] - 2s 7ms/step - loss: 0.1818 - accuracy: 0.9300 - val_loss: 0.2415 - val_accuracy: 0.9065\n",
            "Epoch 16/50\n",
            "229/229 [==============================] - 1s 6ms/step - loss: 0.1806 - accuracy: 0.9300 - val_loss: 0.2415 - val_accuracy: 0.9092\n",
            "Epoch 17/50\n",
            "229/229 [==============================] - 2s 7ms/step - loss: 0.1777 - accuracy: 0.9299 - val_loss: 0.2333 - val_accuracy: 0.9191\n",
            "Epoch 18/50\n",
            "229/229 [==============================] - 1s 5ms/step - loss: 0.1755 - accuracy: 0.9314 - val_loss: 0.2325 - val_accuracy: 0.9163\n",
            "Epoch 19/50\n",
            "229/229 [==============================] - 1s 4ms/step - loss: 0.1728 - accuracy: 0.9319 - val_loss: 0.2307 - val_accuracy: 0.9185\n",
            "Epoch 20/50\n",
            "229/229 [==============================] - 1s 4ms/step - loss: 0.1700 - accuracy: 0.9356 - val_loss: 0.2309 - val_accuracy: 0.9191\n",
            "Epoch 21/50\n",
            "229/229 [==============================] - 1s 4ms/step - loss: 0.1691 - accuracy: 0.9329 - val_loss: 0.2318 - val_accuracy: 0.9174\n",
            "Epoch 22/50\n",
            "229/229 [==============================] - 1s 4ms/step - loss: 0.1703 - accuracy: 0.9326 - val_loss: 0.2384 - val_accuracy: 0.9131\n",
            "Epoch 23/50\n",
            "229/229 [==============================] - 2s 7ms/step - loss: 0.1656 - accuracy: 0.9349 - val_loss: 0.2330 - val_accuracy: 0.9142\n",
            "Epoch 24/50\n",
            "229/229 [==============================] - 1s 6ms/step - loss: 0.1636 - accuracy: 0.9363 - val_loss: 0.2401 - val_accuracy: 0.9109\n",
            "Epoch 25/50\n",
            "229/229 [==============================] - 1s 7ms/step - loss: 0.1621 - accuracy: 0.9362 - val_loss: 0.2348 - val_accuracy: 0.9169\n",
            "Epoch 26/50\n",
            "229/229 [==============================] - 1s 5ms/step - loss: 0.1595 - accuracy: 0.9396 - val_loss: 0.2358 - val_accuracy: 0.9120\n",
            "Epoch 27/50\n",
            "229/229 [==============================] - 1s 4ms/step - loss: 0.1576 - accuracy: 0.9355 - val_loss: 0.2338 - val_accuracy: 0.9163\n",
            "Epoch 28/50\n",
            "229/229 [==============================] - 1s 4ms/step - loss: 0.1563 - accuracy: 0.9394 - val_loss: 0.2357 - val_accuracy: 0.9125\n",
            "Epoch 29/50\n",
            "229/229 [==============================] - 1s 4ms/step - loss: 0.1551 - accuracy: 0.9401 - val_loss: 0.2327 - val_accuracy: 0.9202\n",
            "Epoch 30/50\n",
            "229/229 [==============================] - 1s 3ms/step - loss: 0.1521 - accuracy: 0.9426 - val_loss: 0.2334 - val_accuracy: 0.9147\n",
            "Epoch 31/50\n",
            "229/229 [==============================] - 1s 2ms/step - loss: 0.1518 - accuracy: 0.9381 - val_loss: 0.2435 - val_accuracy: 0.9103\n",
            "Epoch 32/50\n",
            "229/229 [==============================] - 1s 2ms/step - loss: 0.1514 - accuracy: 0.9394 - val_loss: 0.2325 - val_accuracy: 0.9158\n",
            "Epoch 33/50\n",
            "229/229 [==============================] - 1s 3ms/step - loss: 0.1500 - accuracy: 0.9433 - val_loss: 0.2411 - val_accuracy: 0.9120\n",
            "Epoch 34/50\n",
            "229/229 [==============================] - 1s 2ms/step - loss: 0.1473 - accuracy: 0.9440 - val_loss: 0.2457 - val_accuracy: 0.9125\n",
            "Epoch 35/50\n",
            "229/229 [==============================] - 1s 3ms/step - loss: 0.1463 - accuracy: 0.9423 - val_loss: 0.2473 - val_accuracy: 0.9136\n",
            "Epoch 36/50\n",
            "229/229 [==============================] - 1s 3ms/step - loss: 0.1455 - accuracy: 0.9431 - val_loss: 0.2364 - val_accuracy: 0.9131\n",
            "Epoch 37/50\n",
            "229/229 [==============================] - 1s 2ms/step - loss: 0.1454 - accuracy: 0.9438 - val_loss: 0.2355 - val_accuracy: 0.9147\n",
            "Epoch 38/50\n",
            "229/229 [==============================] - 1s 3ms/step - loss: 0.1445 - accuracy: 0.9437 - val_loss: 0.2407 - val_accuracy: 0.9136\n",
            "Epoch 39/50\n",
            "229/229 [==============================] - 1s 2ms/step - loss: 0.1389 - accuracy: 0.9481 - val_loss: 0.2375 - val_accuracy: 0.9158\n",
            "Epoch 40/50\n",
            "229/229 [==============================] - 1s 2ms/step - loss: 0.1386 - accuracy: 0.9449 - val_loss: 0.2366 - val_accuracy: 0.9180\n",
            "Epoch 41/50\n",
            "229/229 [==============================] - 1s 2ms/step - loss: 0.1370 - accuracy: 0.9471 - val_loss: 0.2427 - val_accuracy: 0.9109\n",
            "Epoch 42/50\n",
            "229/229 [==============================] - 1s 4ms/step - loss: 0.1389 - accuracy: 0.9465 - val_loss: 0.2522 - val_accuracy: 0.9153\n",
            "Epoch 43/50\n",
            "229/229 [==============================] - 1s 3ms/step - loss: 0.1366 - accuracy: 0.9463 - val_loss: 0.2381 - val_accuracy: 0.9142\n",
            "Epoch 44/50\n",
            "229/229 [==============================] - 1s 4ms/step - loss: 0.1341 - accuracy: 0.9481 - val_loss: 0.2394 - val_accuracy: 0.9136\n",
            "Epoch 45/50\n",
            "229/229 [==============================] - 1s 4ms/step - loss: 0.1370 - accuracy: 0.9467 - val_loss: 0.2467 - val_accuracy: 0.9131\n",
            "Epoch 46/50\n",
            "229/229 [==============================] - 1s 2ms/step - loss: 0.1337 - accuracy: 0.9481 - val_loss: 0.2437 - val_accuracy: 0.9142\n",
            "Epoch 47/50\n",
            "229/229 [==============================] - 1s 3ms/step - loss: 0.1362 - accuracy: 0.9470 - val_loss: 0.2524 - val_accuracy: 0.9153\n",
            "Epoch 48/50\n",
            "229/229 [==============================] - 1s 2ms/step - loss: 0.1320 - accuracy: 0.9485 - val_loss: 0.2469 - val_accuracy: 0.9092\n",
            "Epoch 49/50\n",
            "229/229 [==============================] - 1s 3ms/step - loss: 0.1282 - accuracy: 0.9505 - val_loss: 0.2435 - val_accuracy: 0.9142\n",
            "Epoch 50/50\n",
            "229/229 [==============================] - 1s 2ms/step - loss: 0.1297 - accuracy: 0.9494 - val_loss: 0.2460 - val_accuracy: 0.9142\n"
          ]
        },
        {
          "output_type": "execute_result",
          "data": {
            "text/plain": [
              "<keras.src.callbacks.History at 0x7a53fb658950>"
            ]
          },
          "metadata": {},
          "execution_count": 6
        }
      ]
    },
    {
      "cell_type": "code",
      "source": [
        "import json\n",
        "\n",
        "model.save(\"phishing_model.h5\")\n",
        "\n",
        "scaler_params = {\n",
        "    'mean': scaler.mean_.tolist(),\n",
        "    'scale': scaler.scale_.tolist()\n",
        "}\n",
        "\n",
        "with open('scaler.json', 'w') as f:\n",
        "    json.dump(scaler_params, f)"
      ],
      "metadata": {
        "colab": {
          "base_uri": "https://localhost:8080/"
        },
        "id": "TdwT9akhMGCc",
        "outputId": "fac3757a-9514-41b5-ec65-be95c76e15e3"
      },
      "execution_count": 7,
      "outputs": [
        {
          "output_type": "stream",
          "name": "stderr",
          "text": [
            "/usr/local/lib/python3.11/dist-packages/keras/src/engine/training.py:3103: UserWarning: You are saving your model as an HDF5 file via `model.save()`. This file format is considered legacy. We recommend using instead the native Keras format, e.g. `model.save('my_model.keras')`.\n",
            "  saving_api.save_model(\n"
          ]
        }
      ]
    },
    {
      "cell_type": "code",
      "source": [
        "# Evaluate the model\n",
        "loss, accuracy = model.evaluate(X_test, y_test)\n",
        "print(f\"Test Accuracy: {accuracy}\")"
      ],
      "metadata": {
        "id": "Pts2N6olMF7j",
        "colab": {
          "base_uri": "https://localhost:8080/"
        },
        "outputId": "a5d11fdf-014c-4fb2-e1dc-55e75037de6a"
      },
      "execution_count": 8,
      "outputs": [
        {
          "output_type": "stream",
          "name": "stdout",
          "text": [
            "72/72 [==============================] - 0s 3ms/step - loss: 0.2422 - accuracy: 0.9103\n",
            "Test Accuracy: 0.9103237390518188\n"
          ]
        }
      ]
    }
  ]
}